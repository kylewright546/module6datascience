{
 "cells": [
  {
   "cell_type": "markdown",
   "id": "7558747e-b74a-4ebb-be7e-88e0f96d3eba",
   "metadata": {},
   "source": [
    "# Data Science Tools and Ecosystem"
   ]
  },
  {
   "cell_type": "markdown",
   "id": "79882602-ce96-4ccf-95a9-414ed085c74b",
   "metadata": {},
   "source": [
    "## Author\n",
    "Kyle Wright"
   ]
  },
  {
   "cell_type": "markdown",
   "id": "c43abca0-95f9-4b72-903a-cdffec49c47e",
   "metadata": {},
   "source": [
    "In this notebook, Data Science Tools and Ecosystem are summarized."
   ]
  },
  {
   "cell_type": "markdown",
   "id": "0f15a1b2-becb-4cd3-8215-1b7bccef1535",
   "metadata": {},
   "source": [
    "**Objectives:**\n",
    "* List popular languages for Data Science\n",
    "* List commonly used libraries in Data Science\n",
    "* Show how arithmetic expressions are used in Python\n",
    "* Show how comments are used in code cells"
   ]
  },
  {
   "cell_type": "markdown",
   "id": "9c8702c4-3b9d-4f32-8e22-f0a11c890391",
   "metadata": {},
   "source": [
    "Some of the popular languages that Data Scientists use are:\n",
    "***\n",
    "1. R\n",
    "2. Python\n",
    "3. SQL"
   ]
  },
  {
   "cell_type": "markdown",
   "id": "3c4017f4-d3cc-46b2-bd2b-eda3026ab80c",
   "metadata": {},
   "source": [
    "Some of the commonly used libraries used by Data Scientists include:\n",
    "1. NumPy\n",
    "2. Pandas\n",
    "3. Matplotlib"
   ]
  },
  {
   "cell_type": "markdown",
   "id": "6916bfd5-ba70-4d35-8026-6e1d1d3087bf",
   "metadata": {},
   "source": [
    "|Data Science Tools|\n",
    "|------------------|\n",
    "|RStudio|\n",
    "|Apache Spark|\n",
    "|Spyder|"
   ]
  },
  {
   "cell_type": "markdown",
   "id": "199d6f59-da97-403d-9493-3e477672e406",
   "metadata": {},
   "source": [
    "### Below are a few examples of evaluating arithmetic expressions in Python."
   ]
  },
  {
   "cell_type": "code",
   "execution_count": 4,
   "id": "28d626c2-ff44-4000-b571-76997a88788d",
   "metadata": {},
   "outputs": [
    {
     "data": {
      "text/plain": [
       "17"
      ]
     },
     "execution_count": 4,
     "metadata": {},
     "output_type": "execute_result"
    }
   ],
   "source": [
    "# This a simple arithmetic expression to mutiply then add integers.\n",
    "(3*4)+5"
   ]
  },
  {
   "cell_type": "code",
   "execution_count": 5,
   "id": "11abf838-b5a5-4b05-a3ea-962ac1d0a8a6",
   "metadata": {},
   "outputs": [
    {
     "data": {
      "text/plain": [
       "3.3333333333333335"
      ]
     },
     "execution_count": 5,
     "metadata": {},
     "output_type": "execute_result"
    }
   ],
   "source": [
    "# This will convert 200 minutes to hours by divding by 60.\n",
    "200/60"
   ]
  },
  {
   "cell_type": "code",
   "execution_count": null,
   "id": "8442c00a-335f-4283-b496-27b19f4574dd",
   "metadata": {},
   "outputs": [],
   "source": []
  }
 ],
 "metadata": {
  "kernelspec": {
   "display_name": "Python 3 (ipykernel)",
   "language": "python",
   "name": "python3"
  },
  "language_info": {
   "codemirror_mode": {
    "name": "ipython",
    "version": 3
   },
   "file_extension": ".py",
   "mimetype": "text/x-python",
   "name": "python",
   "nbconvert_exporter": "python",
   "pygments_lexer": "ipython3",
   "version": "3.13.1"
  }
 },
 "nbformat": 4,
 "nbformat_minor": 5
}
